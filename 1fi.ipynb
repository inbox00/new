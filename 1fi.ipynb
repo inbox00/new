{
  "cells": [
    {
      "cell_type": "markdown",
      "metadata": {
        "id": "view-in-github",
        "colab_type": "text"
      },
      "source": [
        "<a href=\"https://colab.research.google.com/github/inbox00/new/blob/main/1fi.ipynb\" target=\"_parent\"><img src=\"https://colab.research.google.com/assets/colab-badge.svg\" alt=\"Open In Colab\"/></a>"
      ]
    },
    {
      "cell_type": "code",
      "execution_count": null,
      "metadata": {
        "id": "-I4rX7m_Mq3H"
      },
      "outputs": [],
      "source": [
        "import re\n",
        "import requests\n",
        "from bs4 import BeautifulSoup\n",
        "\n",
        "class DirectDownloadLinkException(Exception):\n",
        "    pass\n",
        "\n",
        "def fichier(link: str) -> str:\n",
        "    \"\"\" 1Fichier direct link generator\n",
        "    Based on https://github.com/Maujar\n",
        "    \"\"\"\n",
        "    regex = r\"^([http:\\/\\/|https:\\/\\/]+)?.*1fichier\\.com\\/\\?.+\"\n",
        "    gan = re.match(regex, link)\n",
        "    if not gan:\n",
        "        raise DirectDownloadLinkException(\"ERROR: The link you entered is wrong!\")\n",
        "    if \"::\" in link:\n",
        "        pswd = link.split(\"::\")[-1]\n",
        "        url = link.split(\"::\")[-2]\n",
        "    else:\n",
        "        pswd = None\n",
        "        url = link\n",
        "    try:\n",
        "        if pswd is None:\n",
        "            req = requests.post(url)\n",
        "        else:\n",
        "            pw = {\"pass\": pswd}\n",
        "            req = requests.post(url, data=pw)\n",
        "    except:\n",
        "        raise DirectDownloadLinkException(\"ERROR: Unable to reach 1fichier server!\")\n",
        "    if req.status_code == 404:\n",
        "        raise DirectDownloadLinkException(\"ERROR: File not found/The link you entered is wrong!\")\n",
        "    soup = BeautifulSoup(req.content, 'html.parser')\n",
        "    if soup.find(\"a\", {\"class\": \"ok btn-general btn-orange\"}) is not None:\n",
        "        dl_url = soup.find(\"a\", {\"class\": \"ok btn-general btn-orange\"})[\"href\"]\n",
        "        if dl_url is None:\n",
        "            raise DirectDownloadLinkException(\"ERROR: Unable to generate Direct Link 1fichier!\")\n",
        "        else:\n",
        "            return dl_url\n",
        "    elif len(soup.find_all(\"div\", {\"class\": \"ct_warn\"})) == 3:\n",
        "        str_2 = soup.find_all(\"div\", {\"class\": \"ct_warn\"})[-1]\n",
        "        if \"you must wait\" in str(str_2).lower():\n",
        "            numbers = [int(word) for word in str(str_2).split() if word.isdigit()]\n",
        "            if not numbers:\n",
        "                raise DirectDownloadLinkException(\"ERROR: 1fichier is on a limit. Please wait a few minutes/hour.\")\n",
        "            else:\n",
        "                raise DirectDownloadLinkException(f\"ERROR: 1fichier is on a limit. Please wait {numbers[0]} minute.\")\n",
        "        elif \"protect access\" in str(str_2).lower():\n",
        "            raise DirectDownloadLinkException(f\"ERROR: This link requires a password!\\n\\nThis link requires a password!\\n- Insert sign :: after the link and write the password after the sign.\\n\\nExample: https://1fichier.com/?smmtd8twfpm66awbqz04::love you\\n\\n* No spaces between the signs ::\\n* For the password, you can use a space!\")\n",
        "        else:\n",
        "            print(str_2)\n",
        "            raise DirectDownloadLinkException(\"ERROR: Failed to generate Direct Link from 1fichier!\")\n",
        "    elif len(soup.find_all(\"div\", {\"class\": \"ct_warn\"})) == 4:\n",
        "        str_1 = soup.find_all(\"div\", {\"class\": \"ct_warn\"})[-2]\n",
        "        str_3 = soup.find_all(\"div\", {\"class\": \"ct_warn\"})[-1]\n",
        "        if \"you must wait\" in str(str_1).lower():\n",
        "            numbers = [int(word) for word in str(str_1).split() if word.isdigit()]\n",
        "            if not numbers:\n",
        "                raise DirectDownloadLinkException(\"ERROR: 1fichier is on a limit. Please wait a few minutes/hour.\")\n",
        "            else:\n",
        "                raise DirectDownloadLinkException(f\"ERROR: 1fichier is on a limit. Please wait {numbers[0]} minute.\")\n",
        "        elif \"bad password\" in str(str_3).lower():\n",
        "            raise DirectDownloadLinkException(\"ERROR: The password you entered is wrong!\")\n",
        "        else:\n",
        "            raise DirectDownloadLinkException(\"ERROR: Error trying to generate Direct Link from 1fichier!\")\n",
        "    else:\n",
        "        raise DirectDownloadLinkException(\"ERROR: Error trying to generate Direct Link from 1fichier!\")\n",
        "\n",
        "# Paste the provided 1Fichier link into a new code cell\n",
        "link = \"https://1fichier.com/?kz2u9vjbdpkvaqh6ll2m\"\n",
        "\n",
        "# Call the fichier function with the 1Fichier link as an argument\n",
        "direct_link = fichier(link)\n",
        "print(\"Direct Download Link:\", direct_link)"
      ]
    },
    {
      "cell_type": "code",
      "source": [
        "!wget -O mini.sh https://repo.anaconda.com/miniconda/Miniconda3-py38_4.8.2-Linux-x86_64.sh\n",
        "!chmod +x mini.sh\n",
        "!bash ./mini.sh -b -f -p /usr/local\n",
        "!conda install -q -y jupyter\n",
        "!conda install -q -y google-colab -c conda-forge\n",
        "!python -m ipykernel install --name \"py38\" --user\n",
        "\n",
        "\n",
        "\n",
        "\n"
      ],
      "metadata": {
        "id": "UilSHHooTqJk"
      },
      "execution_count": null,
      "outputs": []
    },
    {
      "cell_type": "code",
      "source": [
        "import requests\n",
        "from google.colab import drive\n",
        "from concurrent.futures import ThreadPoolExecutor\n",
        "\n",
        "# Mount Google Drive\n",
        "drive.mount('/content/drive')\n",
        "\n",
        "# URL of the file to download\n",
        "url = \"https://a-13.1fichier.com/c786374113\"\n",
        "filename = \"file_from_1fichier.mp4\"\n",
        "\n",
        "# Download the file from the URL\n",
        "response = requests.get(url, stream=True)\n",
        "\n",
        "# Check if the request was successful\n",
        "if response.status_code == 200:\n",
        "    # Total size in bytes.\n",
        "    total_size = int(response.headers.get('content-length', 0))\n",
        "    block_size = 1024 * 1024 * 4 # 4 Megabyte\n",
        "\n",
        "    with open(f\"/content/drive/My Drive/{filename}\", 'wb') as f:\n",
        "        with ThreadPoolExecutor(max_workers=16) as executor:\n",
        "            futures = []\n",
        "            for data in response.iter_content(block_size):\n",
        "                future = executor.submit(f.write, data)\n",
        "                futures.append(future)\n",
        "\n",
        "            # Wait for all futures to complete\n",
        "            for future in futures:\n",
        "                future.result()\n",
        "\n",
        "                # Calculate progress percentage\n",
        "                progress = min(100, (f.tell() / total_size) * 100)\n",
        "                print(f\"Download Progress: {progress:.2f}%\", end=\"\\r\")\n",
        "\n",
        "    print(f\"\\nFile '{filename}' downloaded and saved to Google Drive successfully.\")\n",
        "else:\n",
        "    print(\"Failed to download the file.\")\n"
      ],
      "metadata": {
        "id": "2amnQ3asUVB7"
      },
      "execution_count": null,
      "outputs": []
    }
  ],
  "metadata": {
    "colab": {
      "provenance": [],
      "authorship_tag": "ABX9TyNe18mqvkL1tA9c0JNrS5Ms",
      "include_colab_link": true
    },
    "kernelspec": {
      "display_name": "Python 3",
      "name": "python3"
    },
    "language_info": {
      "name": "python"
    }
  },
  "nbformat": 4,
  "nbformat_minor": 0
}