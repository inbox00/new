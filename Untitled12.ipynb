{
  "nbformat": 4,
  "nbformat_minor": 0,
  "metadata": {
    "colab": {
      "provenance": [],
      "authorship_tag": "ABX9TyOKBagYLRP+hwy+hcnMjBiA",
      "include_colab_link": true
    },
    "kernelspec": {
      "name": "python3",
      "display_name": "Python 3"
    },
    "language_info": {
      "name": "python"
    }
  },
  "cells": [
    {
      "cell_type": "markdown",
      "metadata": {
        "id": "view-in-github",
        "colab_type": "text"
      },
      "source": [
        "<a href=\"https://colab.research.google.com/github/inbox00/new/blob/main/Untitled12.ipynb\" target=\"_parent\"><img src=\"https://colab.research.google.com/assets/colab-badge.svg\" alt=\"Open In Colab\"/></a>"
      ]
    },
    {
      "cell_type": "code",
      "execution_count": null,
      "metadata": {
        "id": "X3DonEj7TPRP"
      },
      "outputs": [],
      "source": [
        "!apt install python3-libtorrent\n",
        "\n",
        "import libtorrent as lt\n",
        "from google.colab import drive\n",
        "import os\n",
        "\n",
        "# Mount Google Drive\n",
        "drive.mount('/content/drive')\n",
        "\n",
        "# Create libtorrent session\n",
        "ses = lt.session()\n",
        "ses.listen_on(6881, 6891)\n",
        "downloads = []\n",
        "\n",
        "# Upload the torrent file\n",
        "from google.colab import files\n",
        "uploaded = files.upload()\n",
        "\n",
        "# Parse the torrent file\n",
        "torrent_content = list(uploaded.values())[0]\n",
        "info = lt.torrent_info(torrent_content)\n",
        "print(\"Files in the torrent:\")\n",
        "for i, f in enumerate(info.files()):\n",
        "    print(i, f.path)\n",
        "\n",
        "\n"
      ]
    },
    {
      "cell_type": "code",
      "source": [
        "# Choose the index of the specific file you want to download\n",
        "file_indices = input(\"Enter the indices of the files you want to download (comma-separated): \")\n",
        "file_indices = [int(idx.strip()) for idx in file_indices.split(',')]\n",
        "\n",
        "# Add the selected file to the libtorrent session for downloading\n",
        "params = {\"save_path\": \"/content/drive/My Drive/Torrent\"}\n",
        "params[\"ti\"] = info\n",
        "params[\"file_priorities\"] = [0] * info.num_files()\n",
        "params[\"file_priorities\"][file_index] = 1\n",
        "downloads.append(ses.add_torrent(params))\n",
        "\n",
        "# Monitor download progress\n",
        "import time\n",
        "from IPython.display import display\n",
        "import ipywidgets as widgets\n",
        "\n",
        "state_str = [\n",
        "    \"queued\",\n",
        "    \"checking\",\n",
        "    \"downloading metadata\",\n",
        "    \"downloading\",\n",
        "    \"finished\",\n",
        "    \"seeding\",\n",
        "    \"allocating\",\n",
        "    \"checking fastresume\",\n",
        "]\n",
        "\n",
        "layout = widgets.Layout(width=\"auto\")\n",
        "style = {\"description_width\": \"initial\"}\n",
        "download_bars = [\n",
        "    widgets.FloatSlider(\n",
        "        step=0.01, disabled=True, layout=layout, style=style\n",
        "    )\n",
        "    for _ in downloads\n",
        "]\n",
        "display(*download_bars)\n",
        "\n",
        "while downloads:\n",
        "    next_shift = 0\n",
        "    for index, download in enumerate(downloads[:]):\n",
        "        bar = download_bars[index + next_shift]\n",
        "        if not download.is_seed():\n",
        "            s = download.status()\n",
        "\n",
        "            bar.description = \" \".join(\n",
        "                [\n",
        "                    download.name(),\n",
        "                    str(s.download_rate / 1000),\n",
        "                    \"kB/s\",\n",
        "                    state_str[s.state],\n",
        "                ]\n",
        "            )\n",
        "            bar.value = s.progress * 100\n",
        "        else:\n",
        "            next_shift -= 1\n",
        "            ses.remove_torrent(download)\n",
        "            downloads.remove(download)\n",
        "            bar.close() # Seems to be not working in Colab (see https://github.com/googlecolab/colabtools/issues/726#issue-486731758)\n",
        "            download_bars.remove(bar)\n",
        "            print(download.name(), \"complete\")\n",
        "\n",
        "            # Move downloaded file to Google Drive\n",
        "            downloaded_file_path = os.path.join(params[\"save_path\"], info.files()[file_index].path)\n",
        "            target_drive_path = '/content/drive/My Drive/'\n",
        "            target_path = os.path.join(target_drive_path, os.path.basename(downloaded_file_path))\n",
        "            os.rename(downloaded_file_path, target_path)\n",
        "            print(\"File moved to Google Drive:\", target_path)\n",
        "\n",
        "    time.sleep(1)"
      ],
      "metadata": {
        "id": "EATYCiTSTUcb"
      },
      "execution_count": null,
      "outputs": []
    }
  ]
}